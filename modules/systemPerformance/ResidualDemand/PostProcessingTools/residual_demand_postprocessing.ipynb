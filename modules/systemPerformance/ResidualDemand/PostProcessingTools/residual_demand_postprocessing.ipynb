{
 "cells": [
  {
   "cell_type": "code",
   "execution_count": 12,
   "metadata": {},
   "outputs": [],
   "source": [
    "import pandas as pd\n",
    "import matplotlib.pyplot as plt"
   ]
  },
  {
   "cell_type": "code",
   "execution_count": 4,
   "metadata": {},
   "outputs": [],
   "source": [
    "# Set the path to the trip info file, which is avaliable in Documents/R2D/SystemPerformance/ResidualDemand\n",
    "# or in Documents/R2D/tmp.SimCener/Results/ResidualDemand \n",
    "path_to_trip_compare = './trip_info_compare.csv'"
   ]
  },
  {
   "cell_type": "code",
   "execution_count": 5,
   "metadata": {},
   "outputs": [
    {
     "data": {
      "text/html": [
       "<div>\n",
       "<style scoped>\n",
       "    .dataframe tbody tr th:only-of-type {\n",
       "        vertical-align: middle;\n",
       "    }\n",
       "\n",
       "    .dataframe tbody tr th {\n",
       "        vertical-align: top;\n",
       "    }\n",
       "\n",
       "    .dataframe thead th {\n",
       "        text-align: right;\n",
       "    }\n",
       "</style>\n",
       "<table border=\"1\" class=\"dataframe\">\n",
       "  <thead>\n",
       "    <tr style=\"text-align: right;\">\n",
       "      <th></th>\n",
       "      <th>agent_id</th>\n",
       "      <th>origin_nid_undamaged</th>\n",
       "      <th>destin_nid_undamaged</th>\n",
       "      <th>travel_time_undamaged</th>\n",
       "      <th>travel_time_used_undamaged</th>\n",
       "      <th>stop_nid_undamaged</th>\n",
       "      <th>stop_hour_undamaged</th>\n",
       "      <th>stop_quarter_undamaged</th>\n",
       "      <th>stop_ssid_undamaged</th>\n",
       "      <th>origin_nid_damaged</th>\n",
       "      <th>destin_nid_damaged</th>\n",
       "      <th>travel_time_damaged</th>\n",
       "      <th>travel_time_used_damaged</th>\n",
       "      <th>stop_nid_damaged</th>\n",
       "      <th>stop_hour_damaged</th>\n",
       "      <th>stop_quarter_damaged</th>\n",
       "      <th>stop_ssid_damaged</th>\n",
       "      <th>delay_duration</th>\n",
       "      <th>delay_ratio</th>\n",
       "    </tr>\n",
       "  </thead>\n",
       "  <tbody>\n",
       "    <tr>\n",
       "      <th>0</th>\n",
       "      <td>0</td>\n",
       "      <td>2355</td>\n",
       "      <td>195</td>\n",
       "      <td>600</td>\n",
       "      <td>60.639811</td>\n",
       "      <td>195</td>\n",
       "      <td>7</td>\n",
       "      <td>0</td>\n",
       "      <td>0</td>\n",
       "      <td>2355</td>\n",
       "      <td>195</td>\n",
       "      <td>600</td>\n",
       "      <td>60.639811</td>\n",
       "      <td>195</td>\n",
       "      <td>7</td>\n",
       "      <td>0</td>\n",
       "      <td>0</td>\n",
       "      <td>0.00</td>\n",
       "      <td>0.000000</td>\n",
       "    </tr>\n",
       "    <tr>\n",
       "      <th>1</th>\n",
       "      <td>1</td>\n",
       "      <td>2355</td>\n",
       "      <td>2260</td>\n",
       "      <td>600</td>\n",
       "      <td>69.590000</td>\n",
       "      <td>2260</td>\n",
       "      <td>7</td>\n",
       "      <td>3</td>\n",
       "      <td>0</td>\n",
       "      <td>2355</td>\n",
       "      <td>2260</td>\n",
       "      <td>600</td>\n",
       "      <td>99.440000</td>\n",
       "      <td>2260</td>\n",
       "      <td>7</td>\n",
       "      <td>3</td>\n",
       "      <td>0</td>\n",
       "      <td>29.85</td>\n",
       "      <td>0.428941</td>\n",
       "    </tr>\n",
       "    <tr>\n",
       "      <th>2</th>\n",
       "      <td>2</td>\n",
       "      <td>2355</td>\n",
       "      <td>1549</td>\n",
       "      <td>600</td>\n",
       "      <td>204.130000</td>\n",
       "      <td>1549</td>\n",
       "      <td>7</td>\n",
       "      <td>2</td>\n",
       "      <td>0</td>\n",
       "      <td>2355</td>\n",
       "      <td>1549</td>\n",
       "      <td>600</td>\n",
       "      <td>211.690000</td>\n",
       "      <td>1549</td>\n",
       "      <td>7</td>\n",
       "      <td>2</td>\n",
       "      <td>0</td>\n",
       "      <td>7.56</td>\n",
       "      <td>0.037035</td>\n",
       "    </tr>\n",
       "    <tr>\n",
       "      <th>3</th>\n",
       "      <td>3</td>\n",
       "      <td>1098</td>\n",
       "      <td>2354</td>\n",
       "      <td>600</td>\n",
       "      <td>262.320000</td>\n",
       "      <td>2354</td>\n",
       "      <td>7</td>\n",
       "      <td>2</td>\n",
       "      <td>0</td>\n",
       "      <td>1098</td>\n",
       "      <td>2354</td>\n",
       "      <td>600</td>\n",
       "      <td>262.140000</td>\n",
       "      <td>2354</td>\n",
       "      <td>7</td>\n",
       "      <td>2</td>\n",
       "      <td>0</td>\n",
       "      <td>-0.18</td>\n",
       "      <td>-0.000686</td>\n",
       "    </tr>\n",
       "    <tr>\n",
       "      <th>4</th>\n",
       "      <td>4</td>\n",
       "      <td>2355</td>\n",
       "      <td>1355</td>\n",
       "      <td>600</td>\n",
       "      <td>223.610000</td>\n",
       "      <td>1355</td>\n",
       "      <td>7</td>\n",
       "      <td>1</td>\n",
       "      <td>0</td>\n",
       "      <td>2355</td>\n",
       "      <td>1355</td>\n",
       "      <td>600</td>\n",
       "      <td>223.610000</td>\n",
       "      <td>1355</td>\n",
       "      <td>7</td>\n",
       "      <td>1</td>\n",
       "      <td>0</td>\n",
       "      <td>0.00</td>\n",
       "      <td>0.000000</td>\n",
       "    </tr>\n",
       "  </tbody>\n",
       "</table>\n",
       "</div>"
      ],
      "text/plain": [
       "   agent_id  origin_nid_undamaged  destin_nid_undamaged  \\\n",
       "0         0                  2355                   195   \n",
       "1         1                  2355                  2260   \n",
       "2         2                  2355                  1549   \n",
       "3         3                  1098                  2354   \n",
       "4         4                  2355                  1355   \n",
       "\n",
       "   travel_time_undamaged  travel_time_used_undamaged  stop_nid_undamaged  \\\n",
       "0                    600                   60.639811                 195   \n",
       "1                    600                   69.590000                2260   \n",
       "2                    600                  204.130000                1549   \n",
       "3                    600                  262.320000                2354   \n",
       "4                    600                  223.610000                1355   \n",
       "\n",
       "   stop_hour_undamaged  stop_quarter_undamaged  stop_ssid_undamaged  \\\n",
       "0                    7                       0                    0   \n",
       "1                    7                       3                    0   \n",
       "2                    7                       2                    0   \n",
       "3                    7                       2                    0   \n",
       "4                    7                       1                    0   \n",
       "\n",
       "   origin_nid_damaged  destin_nid_damaged  travel_time_damaged  \\\n",
       "0                2355                 195                  600   \n",
       "1                2355                2260                  600   \n",
       "2                2355                1549                  600   \n",
       "3                1098                2354                  600   \n",
       "4                2355                1355                  600   \n",
       "\n",
       "   travel_time_used_damaged  stop_nid_damaged  stop_hour_damaged  \\\n",
       "0                 60.639811               195                  7   \n",
       "1                 99.440000              2260                  7   \n",
       "2                211.690000              1549                  7   \n",
       "3                262.140000              2354                  7   \n",
       "4                223.610000              1355                  7   \n",
       "\n",
       "   stop_quarter_damaged  stop_ssid_damaged  delay_duration  delay_ratio  \n",
       "0                     0                  0            0.00     0.000000  \n",
       "1                     3                  0           29.85     0.428941  \n",
       "2                     2                  0            7.56     0.037035  \n",
       "3                     2                  0           -0.18    -0.000686  \n",
       "4                     1                  0            0.00     0.000000  "
      ]
     },
     "execution_count": 5,
     "metadata": {},
     "output_type": "execute_result"
    }
   ],
   "source": [
    "trip_compare = pd.read_csv(path_to_trip_compare)\n",
    "trip_compare.head(5)"
   ]
  },
  {
   "cell_type": "code",
   "execution_count": 9,
   "metadata": {},
   "outputs": [
    {
     "name": "stdout",
     "output_type": "stream",
     "text": [
      "Mean delay ratio is: 16.5 %\n"
     ]
    }
   ],
   "source": [
    "delay_ratio_pct = trip_compare['delay_ratio'] * 100\n",
    "mean_delay_ratio_pct = delay_ratio_pct.mean()\n",
    "print(f'Mean delay ratio is: {mean_delay_ratio_pct:.1f} %')"
   ]
  },
  {
   "cell_type": "code",
   "execution_count": 16,
   "metadata": {},
   "outputs": [
    {
     "data": {
      "text/plain": [
       "(-50.0, 200.0)"
      ]
     },
     "execution_count": 16,
     "metadata": {},
     "output_type": "execute_result"
    },
    {
     "data": {
      "image/png": "[encoded data removed]",
      "text/plain": [
       "<Figure size 640x480 with 1 Axes>"
      ]
     },
     "metadata": {},
     "output_type": "display_data"
    }
   ],
   "source": [
    "# plot a histogram of delay ratio\n",
    "delay_ratio_pct.hist(bins=50, edgecolor='black')\n",
    "plt.xlabel('Delay Ratio (%)')\n",
    "plt.ylabel('Count')\n",
    "plt.xlim(-50, 200)"
   ]
  }
 ],
 "metadata": {
  "kernelspec": {
   "display_name": "Python 3",
   "language": "python",
   "name": "python3"
  },
  "language_info": {
   "codemirror_mode": {
    "name": "ipython",
    "version": 3
   },
   "file_extension": ".py",
   "mimetype": "text/x-python",
   "name": "python",
   "nbconvert_exporter": "python",
   "pygments_lexer": "ipython3",
   "version": "3.9.13"
  }
 },
 "nbformat": 4,
 "nbformat_minor": 2
}
